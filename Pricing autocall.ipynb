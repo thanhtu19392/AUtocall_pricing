{
 "cells": [
  {
   "cell_type": "code",
   "execution_count": 33,
   "metadata": {},
   "outputs": [],
   "source": [
    "import time\n",
    "import datetime\n",
    "from math import sqrt, exp, log\n",
    "from random import gauss\n",
    "import scipy.stats"
   ]
  },
  {
   "cell_type": "code",
   "execution_count": 34,
   "metadata": {},
   "outputs": [],
   "source": [
    "##Definition of function\n",
    "def generate_asset_price(S_t1,v,r,t1,t2):\n",
    "    # S is spot price\n",
    "    #V is implied vol\n",
    "    T= (t2- t1).days/365.0\n",
    "    return S_t1 * exp((r - 0.5 * v**2) * T + v * sqrt(T) * gauss(0,1.0))\n",
    "def df(r,t1,t2):\n",
    "    # function of discount factor between date t1 and t2 with interest rate r\n",
    "    return exp(-r * (t2-t1).days/365.0)\n",
    "    \n"
   ]
  },
  {
   "cell_type": "code",
   "execution_count": 43,
   "metadata": {},
   "outputs": [],
   "source": [
    "S =100 # asset price at the start date\n",
    "v= 0.20\n",
    "r = 0.05\n",
    "N = 1000\n",
    "date = []\n",
    "start_date = datetime.date(2012,6,4)\n",
    "anniversary1 = datetime.date(2013,6,5)\n",
    "anniversary2 = datetime.date(2014,6,7)\n",
    "anniversary3 = datetime.date(2015,6,5)\n",
    "anniversary4 = datetime.date(2016,6,7)\n",
    "anniversary5 = datetime.date(2017,6,7)\n",
    "end_date = datetime.date(2018,6,5)\n",
    "date.append(start_date)\n",
    "date.append(anniversary1)\n",
    "date.append(anniversary2)\n",
    "date.append(anniversary3)\n",
    "date.append(anniversary4)\n",
    "date.append(anniversary5)\n",
    "date.append(end_date)\n",
    "simulations = 1000000\n",
    "asset_prices = [S] * 7 \n",
    "l = len(asset_prices)\n",
    "coupon_barrier = 0.8\n",
    "kickout_barrier = 1.1\n",
    "protection_barrier = 0.6\n",
    "coupon_rate = 0.088\n",
    "autocall_prices= []"
   ]
  },
  {
   "cell_type": "code",
   "execution_count": 46,
   "metadata": {},
   "outputs": [],
   "source": [
    "for i in range(simulations):\n",
    "    autocall_price = 0\n",
    "    checker = True\n",
    "    payoffs = [0] *l # on remet tous les payoffs a zero\n",
    "    #Le payoff a la start_date vaut toujours zero\n",
    "    \n",
    "    for j in range(1, l- 1) :\n",
    "        asset_prices[j]= generate_asset_price(asset_prices[j-1],v,r,date[j-1],date[j])/S\n",
    "        if asset_prices[j] < coupon_barrier:\n",
    "            payoffs[j+1] = payoffs[j]+ N * coupon_rate\n",
    "            payoffs[j] = 0\n",
    "            autocall_price += payoffs[j] * df(r,start_date,date[j])\n",
    "        elif asset_prices[j] < kickout_barrier:\n",
    "            payoffs[j] += N * coupon_rate\n",
    "            autocall_price += payoffs[j]  * df(r,start_date,date[j])\n",
    "        else:\n",
    "            payoffs[j] += N * coupon_rate + N\n",
    "            autocall_price += payoffs[j] * df(r,start_date,date[j])\n",
    "            checker = False\n",
    "            break\n",
    "    \n",
    "    if checker: \n",
    "        if asset_prices[l -1] < protection_barrier:\n",
    "            payoffs[l - 1] = N * asset_prices[l -1]\n",
    "        elif asset_prices[l -1] < coupon_barrier: \n",
    "            payoffs[l - 1] = N\n",
    "        else:\n",
    "            payoffs[l - 1] += N * coupon_rate + N\n",
    "    \n",
    "    autocall_prices.append(autocall_price)\n",
    "\n",
    "final_autocall_price = sum(autocall_prices)/float(simulations)\n",
    "\n",
    "\n",
    "    "
   ]
  },
  {
   "cell_type": "code",
   "execution_count": 49,
   "metadata": {},
   "outputs": [
    {
     "name": "stdout",
     "output_type": "stream",
     "text": [
      "858.4082863995498\n"
     ]
    }
   ],
   "source": [
    "print(final_autocall_price)"
   ]
  },
  {
   "cell_type": "code",
   "execution_count": null,
   "metadata": {},
   "outputs": [],
   "source": []
  }
 ],
 "metadata": {
  "kernelspec": {
   "display_name": "Python 3",
   "language": "python",
   "name": "python3"
  },
  "language_info": {
   "codemirror_mode": {
    "name": "ipython",
    "version": 3
   },
   "file_extension": ".py",
   "mimetype": "text/x-python",
   "name": "python",
   "nbconvert_exporter": "python",
   "pygments_lexer": "ipython3",
   "version": "3.6.4"
  }
 },
 "nbformat": 4,
 "nbformat_minor": 2
}
