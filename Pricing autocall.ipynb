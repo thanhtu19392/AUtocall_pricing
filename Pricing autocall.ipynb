{
 "cells": [
  {
   "cell_type": "markdown",
   "metadata": {},
   "source": [
    "<div align=\\\"center\\\"><h1> Project Pricing Autocall SG </h1></div>"
   ]
  },
  {
   "cell_type": "markdown",
   "metadata": {},
   "source": [
    "## About the product Autocall SG"
   ]
  },
  {
   "cell_type": "markdown",
   "metadata": {},
   "source": [
    "## Implementation of pricing autocall "
   ]
  },
  {
   "cell_type": "markdown",
   "metadata": {},
   "source": [
    "### Import libraries"
   ]
  },
  {
   "cell_type": "code",
   "execution_count": 242,
   "metadata": {
    "collapsed": true
   },
   "outputs": [],
   "source": [
    "import time\n",
    "import datetime\n",
    "from math import sqrt, exp, log\n",
    "from random import gauss\n",
    "import scipy.stats\n",
    "import pandas as pd\n",
    "import numpy as np\n",
    "from matplotlib import pyplot as plt"
   ]
  },
  {
   "cell_type": "code",
   "execution_count": 251,
   "metadata": {},
   "outputs": [],
   "source": [
    "%matplotlib inline"
   ]
  },
  {
   "cell_type": "code",
   "execution_count": 261,
   "metadata": {},
   "outputs": [],
   "source": [
    "# definition of function\n",
    "\n",
    "def BS(S_t, v, r):\n",
    "    return S_t* exp(( r - 0.5 * v**2)/252 + v *sqrt(1/252) * np.random.normal(0,1))\n",
    "\n",
    "def generate_asset_price(S_t,v,r,t1,t2):\n",
    "    # S is spot price\n",
    "    # V is implied vol\n",
    "    T= (t2- t1).days/365.0\n",
    "    return S_t * exp((r - 0.5 * v**2) * T + v * sqrt(T) * gauss(0,1.0))\n",
    "\n",
    "def df(r,t1,t2): \n",
    "    # function of discount factor between date t1 and t2 with interest rate r\n",
    "    return exp(-r * (t2-t1).days/365.0)\n",
    "    "
   ]
  },
  {
   "cell_type": "markdown",
   "metadata": {},
   "source": [
    "### Import date"
   ]
  },
  {
   "cell_type": "code",
   "execution_count": 278,
   "metadata": {
    "collapsed": true
   },
   "outputs": [],
   "source": [
    "tabDate = pd.read_csv('date.csv', sep= \";\", infer_datetime_format= True)"
   ]
  },
  {
   "cell_type": "code",
   "execution_count": 286,
   "metadata": {
    "collapsed": true
   },
   "outputs": [],
   "source": [
    "date= [datetime.datetime.strptime(x, '%m/%d/%Y') for x in list(tabDate.date)]"
   ]
  },
  {
   "cell_type": "code",
   "execution_count": 280,
   "metadata": {
    "collapsed": true
   },
   "outputs": [],
   "source": [
    "start_date = date[0]\n",
    "end_date = date[-1]"
   ]
  },
  {
   "cell_type": "code",
   "execution_count": 288,
   "metadata": {
    "collapsed": true
   },
   "outputs": [],
   "source": [
    "from pandas.tseries.holiday import USFederalHolidayCalendar\n",
    "cal = USFederalHolidayCalendar()\n",
    "holidays = pd.to_datetime(cal.holidays(start=start_date, end=end_date))"
   ]
  },
  {
   "cell_type": "code",
   "execution_count": 289,
   "metadata": {},
   "outputs": [],
   "source": [
    "from datetime import timedelta\n",
    "\n",
    "def daterange(date1, date2):\n",
    "    date_range = [date1]\n",
    "    for n in range(int ((date2 - date1).days)+1):\n",
    "        date_next =  date1 + timedelta(n)\n",
    "        if (date_next not in holidays) and (date_next.weekday() < 5):\n",
    "            date_range.append(date_next)\n",
    "    return date_range"
   ]
  },
  {
   "cell_type": "code",
   "execution_count": 328,
   "metadata": {},
   "outputs": [],
   "source": [
    "#np.random.seed(123)\n",
    "v= 0.20 # Implied volatility\n",
    "r = 0.05 # taux d'interet\n",
    "class oneSimulationMC:\n",
    "    def __init__(self, start_date, end_date):\n",
    "        self.start_date = start_date\n",
    "        self.end_date = end_date\n",
    "    \n",
    "    def generate_prices(self):\n",
    "        df = pd.DataFrame(daterange(self.start_date, self.end_date), columns= ['date'])\n",
    "        df.set_index('date', inplace= True)\n",
    "        df['prix'] = 100\n",
    "        for i in range(1, df.size):\n",
    "            df.prix[i] = BS(df.prix[i-1], v, r).astype(np.float)\n",
    "        return df    \n",
    "    \n",
    "    def priceAtDate(self,dt):\n",
    "        return self.generate_prices().iloc[dt]"
   ]
  },
  {
   "cell_type": "code",
   "execution_count": 329,
   "metadata": {},
   "outputs": [
    {
     "data": {
      "text/plain": [
       "datetime.datetime(2013, 5, 7, 0, 0)"
      ]
     },
     "execution_count": 329,
     "metadata": {},
     "output_type": "execute_result"
    }
   ],
   "source": [
    "date[1]"
   ]
  },
  {
   "cell_type": "code",
   "execution_count": 337,
   "metadata": {},
   "outputs": [],
   "source": [
    "df = oneSimulationMC(start_date, end_date).generate_prices()"
   ]
  },
  {
   "cell_type": "code",
   "execution_count": 338,
   "metadata": {},
   "outputs": [
    {
     "data": {
      "text/plain": [
       "<matplotlib.axes._subplots.AxesSubplot at 0xc779b38>"
      ]
     },
     "execution_count": 338,
     "metadata": {},
     "output_type": "execute_result"
    },
    {
     "data": {
      "image/png": "[encoded data removed]",
      "text/plain": [
       "<matplotlib.figure.Figure at 0xc786358>"
      ]
     },
     "metadata": {},
     "output_type": "display_data"
    }
   ],
   "source": [
    "df.prix.plot(figsize= (20,10))"
   ]
  },
  {
   "cell_type": "markdown",
   "metadata": {},
   "source": [
    "## Monte Carlo Simulation"
   ]
  },
  {
   "cell_type": "code",
   "execution_count": 59,
   "metadata": {
    "collapsed": true
   },
   "outputs": [],
   "source": [
    "S =100 # asset price at the start date\n",
    "v= 0.20 # Implied volatility\n",
    "r = 0.05 # taux d'interet\n",
    "N = 1000 # initial investment\n",
    "\n",
    "l = len(date)\n",
    "asset_prices = [S] * l\n",
    "coupon_barrier = 0.8\n",
    "kickout_barrier = 1.1\n",
    "protection_barrier = 0.6\n",
    "coupon_rate = 0.088\n",
    "autocall_prices= []"
   ]
  },
  {
   "cell_type": "code",
   "execution_count": 60,
   "metadata": {
    "collapsed": true
   },
   "outputs": [],
   "source": [
    "def mcSimulation(simulations):\n",
    "    start_date = date[0]\n",
    "    end_date = date[-1]\n",
    "    for i in range(simulations):\n",
    "        autocall_price = 0\n",
    "        checker = True\n",
    "        payoffs = [0] * l # on remet tous les payoffs a zero\n",
    "        #Le payoff a la start_date vaut toujours zero\n",
    "\n",
    "        for j in range(1, l- 1) :\n",
    "            asset_prices[j]= generate_asset_price(asset_prices[j-1],v,r,date[j-1],date[j])/S\n",
    "            if asset_prices[j] < coupon_barrier:\n",
    "                payoffs[j+1] = payoffs[j]+ N * coupon_rate\n",
    "                payoffs[j] = 0\n",
    "                autocall_price += payoffs[j] * df(r,start_date,date[j])\n",
    "            elif asset_prices[j] < kickout_barrier:\n",
    "                payoffs[j] += N * coupon_rate\n",
    "                autocall_price += payoffs[j]  * df(r,start_date,date[j])\n",
    "            else:\n",
    "                payoffs[j] += N * coupon_rate + N\n",
    "                autocall_price += payoffs[j] * df(r,start_date,date[j])\n",
    "                checker = False\n",
    "                break\n",
    "\n",
    "        if checker: \n",
    "            if asset_prices[-1] < protection_barrier:\n",
    "                payoffs[-1] = N * asset_prices[l -1]\n",
    "            elif asset_prices[-1] < coupon_barrier: \n",
    "                payoffs[-1] = N\n",
    "            else:\n",
    "                payoffs[-1] += N * coupon_rate + N\n",
    "\n",
    "        autocall_prices.append(autocall_price)\n",
    "\n",
    "    final_autocall_price = sum(autocall_prices)/float(simulations)\n",
    "    return final_autocall_price"
   ]
  },
  {
   "cell_type": "code",
   "execution_count": 61,
   "metadata": {},
   "outputs": [
    {
     "data": {
      "text/plain": [
       "434.7566342504829"
      ]
     },
     "execution_count": 61,
     "metadata": {},
     "output_type": "execute_result"
    }
   ],
   "source": [
    "mcSimulation(1000000)"
   ]
  },
  {
   "cell_type": "code",
   "execution_count": null,
   "metadata": {
    "collapsed": true
   },
   "outputs": [],
   "source": []
  }
 ],
 "metadata": {
  "kernelspec": {
   "display_name": "Python 3",
   "language": "python",
   "name": "python3"
  },
  "language_info": {
   "codemirror_mode": {
    "name": "ipython",
    "version": 3
   },
   "file_extension": ".py",
   "mimetype": "text/x-python",
   "name": "python",
   "nbconvert_exporter": "python",
   "pygments_lexer": "ipython3",
   "version": "3.6.2"
  },
  "toc": {
   "nav_menu": {},
   "number_sections": true,
   "sideBar": true,
   "skip_h1_title": false,
   "toc_cell": false,
   "toc_position": {},
   "toc_section_display": "block",
   "toc_window_display": true
  }
 },
 "nbformat": 4,
 "nbformat_minor": 2
}
